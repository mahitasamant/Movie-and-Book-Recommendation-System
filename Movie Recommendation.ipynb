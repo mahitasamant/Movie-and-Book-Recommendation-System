{
 "cells": [
  {
   "cell_type": "code",
   "execution_count": 51,
   "id": "9aa38ed7",
   "metadata": {},
   "outputs": [],
   "source": [
    "import pandas as pd\n",
    "from sklearn.decomposition import NMF\n",
    "from sklearn.feature_extraction.text import TfidfVectorizer\n",
    "from sklearn.metrics.pairwise import cosine_similarity\n",
    "import pickle"
   ]
  },
  {
   "cell_type": "code",
   "execution_count": 52,
   "id": "7de4a670",
   "metadata": {},
   "outputs": [],
   "source": [
    "movies = pd.read_csv('dataset.csv')"
   ]
  },
  {
   "cell_type": "code",
   "execution_count": 53,
   "id": "330fcc78",
   "metadata": {},
   "outputs": [],
   "source": [
    "\n",
    "movies = movies[['id', 'title', 'overview', 'genre']]\n",
    "\n",
    "\n"
   ]
  },
  {
   "cell_type": "code",
   "execution_count": 54,
   "id": "88b2159c",
   "metadata": {},
   "outputs": [],
   "source": [
    "\n",
    "# Combine relevant features\n",
    "movies['features'] = movies['overview'] + ' ' + movies['genre']\n"
   ]
  },
  {
   "cell_type": "code",
   "execution_count": 55,
   "id": "d79b749a",
   "metadata": {},
   "outputs": [],
   "source": [
    "\n",
    "# Replace missing values with an empty string\n",
    "movies['features'] = movies['features'].fillna('')\n"
   ]
  },
  {
   "cell_type": "code",
   "execution_count": 56,
   "id": "09d41b46",
   "metadata": {},
   "outputs": [],
   "source": [
    "\n",
    "# Create TF-IDF matrix\n",
    "tfidf = TfidfVectorizer(stop_words='english')\n",
    "tfidf_matrix = tfidf.fit_transform(movies['features'])\n",
    "\n"
   ]
  },
  {
   "cell_type": "code",
   "execution_count": 57,
   "id": "6c4db076",
   "metadata": {},
   "outputs": [],
   "source": [
    "# Apply Non-Negative Matrix Factorization (NMF)\n",
    "n_components = 50  # Set the desired number of latent factors\n",
    "nmf = NMF(n_components=n_components)\n",
    "latent_matrix = nmf.fit_transform(tfidf_matrix)\n"
   ]
  },
  {
   "cell_type": "code",
   "execution_count": 58,
   "id": "23436321",
   "metadata": {},
   "outputs": [],
   "source": [
    "\n",
    "# Calculate the cosine similarity between latent factors\n",
    "latent_similarity = cosine_similarity(latent_matrix)\n",
    "\n"
   ]
  },
  {
   "cell_type": "code",
   "execution_count": 59,
   "id": "71ad41dc",
   "metadata": {},
   "outputs": [
    {
     "name": "stdout",
     "output_type": "stream",
     "text": [
      "['Star Wars: Episode III - Revenge of the Sith', 'Stargate', 'Insurgent', 'Godzilla: Final Wars', 'Superman II: The Richard Donner Cut']\n"
     ]
    }
   ],
   "source": [
    "# Calculate the cosine similarity between latent factors\n",
    "latent_similarity = cosine_similarity(latent_matrix)\n",
    "\n",
    "# Function to recommend movies based on similarity\n",
    "def recommend_movies(movie_title, top_n=5):\n",
    "    # Get the index of the movie\n",
    "    idx = movies[movies['title'] == movie_title].index[0]\n",
    "    \n",
    "    # Get the pairwise similarity scores\n",
    "    similarity_scores = list(enumerate(latent_similarity[idx]))\n",
    "    \n",
    "    # Sort movies based on similarity scores\n",
    "    similarity_scores = sorted(similarity_scores, key=lambda x: x[1], reverse=True)\n",
    "    \n",
    "    # Get top similar movies\n",
    "    top_movies = [movies.iloc[i[0]]['title'] for i in similarity_scores[1:top_n+1]]\n",
    "    \n",
    "    return top_movies\n",
    "\n",
    "# Example usage for NMF recommendation\n",
    "recommendations_nmf = recommend_movies('Iron Man', top_n=5)\n",
    "print(recommendations_nmf)\n",
    "\n",
    "# Save movies and latent_similarity to pickle files\n",
    "pickle.dump(movies, open('moviess.pkl', 'wb'))\n",
    "pickle.dump(latent_similarity, open('latent_similarity.pkl', 'wb'))\n",
    "\n",
    "# Load movies and latent_similarity from pickle files\n",
    "movies = pickle.load(open('moviess.pkl', 'rb'))\n",
    "latent_similarity = pickle.load(open('latent_similarity.pkl', 'rb'))"
   ]
  },
  {
   "cell_type": "code",
   "execution_count": null,
   "id": "7f5ca6ef",
   "metadata": {},
   "outputs": [],
   "source": []
  }
 ],
 "metadata": {
  "kernelspec": {
   "display_name": "Python 3",
   "language": "python",
   "name": "python3"
  },
  "language_info": {
   "codemirror_mode": {
    "name": "ipython",
    "version": 3
   },
   "file_extension": ".py",
   "mimetype": "text/x-python",
   "name": "python",
   "nbconvert_exporter": "python",
   "pygments_lexer": "ipython3",
   "version": "3.8.10"
  }
 },
 "nbformat": 4,
 "nbformat_minor": 5
}
